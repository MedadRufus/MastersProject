{
 "cells": [
  {
   "cell_type": "code",
   "execution_count": null,
   "metadata": {},
   "outputs": [],
   "source": [
    "#!/usr/bin/env python\n",
    "# coding: utf-8\n",
    "#######################################################################\n",
    "# How to setup AndroSensor:\n",
    "# Install AndroSensor\n",
    "# Ensure when installing, allow app to run in background.\n",
    "# Open settings and change recording interval to fast.\n",
    "#\n",
    "#\n",
    "#\n",
    "#######################################################################\n",
    "import glob\n",
    "import os\n",
    "import numpy as np\n",
    "import pandas as pd\n",
    "import plotly.express as px\n",
    "import plotly.io as pio\n",
    "pio.renderers.default = 'browser'\n",
    "import numpy as np\n",
    "import scipy as sp\n",
    "import scipy.signal as sg\n",
    "\n",
    "px.set_mapbox_access_token(open(\".mapbox_token\").read())"
   ]
  },
  {
   "cell_type": "code",
   "execution_count": null,
   "metadata": {},
   "outputs": [],
   "source": [
    "# IF useing ; sep, then delete the first line.\n",
    "path = r'phone_data'  # use your path\n",
    "all_files = glob.glob(os.path.join(path, \"*.csv\")) \n",
    "\n",
    "df_from_each_file = [pd.read_csv(f, sep=\";\") for f in all_files]\n",
    "concatenated_df = pd.concat(df_from_each_file, ignore_index=True, sort=True)\n",
    "\n",
    "# Convert datatime to actual datetime\n",
    "concatenated_df[\"timestamp\"] = pd.to_datetime(concatenated_df[\"YYYY-MO-DD HH-MI-SS_SSS\"],format='%Y-%m-%d %H:%M:%S:%f')\n",
    "concatenated_df[\"Speed(km/h)\"] = concatenated_df[\"LOCATION Speed ( Kmh)\"]"
   ]
  },
  {
   "cell_type": "code",
   "execution_count": null,
   "metadata": {},
   "outputs": [],
   "source": [
    "# calculate abs accleration\n",
    "concatenated_df[\"abs_acceleration\"] = np.linalg.norm(\n",
    "    concatenated_df[[\"ACCELEROMETER X (m/s²)\", \"ACCELEROMETER Y (m/s²)\", \"ACCELEROMETER Z (m/s²)\"]].values, axis=1)\n",
    "\n",
    "# Calculate abs location\n",
    "concatenated_df[\"abs_loc\"] = np.linalg.norm(concatenated_df[['LOCATION Latitude : ', 'LOCATION Longitude : ']].values,\n",
    "                                            axis=1)\n",
    "\n",
    "# Parse GPS sats properly\n",
    "concatenated_df['Satellites in range'] = concatenated_df['Satellites in range'].str.extract(r'(\\d*) \\/ \\d*')\n",
    "concatenated_df['Satellites in range'] = pd.to_numeric(concatenated_df['Satellites in range'] )"
   ]
  },
  {
   "cell_type": "markdown",
   "metadata": {},
   "source": [
    "# Display 3-axis acceleration vs time"
   ]
  },
  {
   "cell_type": "code",
   "execution_count": null,
   "metadata": {},
   "outputs": [],
   "source": [
    "# Display accelration\n",
    "fig = px.line(concatenated_df,\n",
    "              x=\"timestamp\",\n",
    "              y=[\"ACCELEROMETER X (m/s²)\", \"ACCELEROMETER Y (m/s²)\", \"ACCELEROMETER Z (m/s²)\"],\n",
    "              title='Acceleration'\n",
    "             )\n",
    "fig.write_html(\"plot_acc.html\")\n",
    "\n",
    "fig.show()"
   ]
  },
  {
   "cell_type": "code",
   "execution_count": null,
   "metadata": {},
   "outputs": [],
   "source": [
    "cols = [\"ACCELEROMETER X (m/s²)\",\n",
    "        \"ACCELEROMETER Y (m/s²)\",\n",
    "        \"ACCELEROMETER Z (m/s²)\",\n",
    "        \"LOCATION Accuracy ( m)\",\n",
    "        \"LOCATION Altitude ( m)\",\n",
    "        \"LOCATION Altitude-google ( m)\",\n",
    "        \"LOCATION Latitude : \",\n",
    "        \"LOCATION Longitude : \",\n",
    "        \"LOCATION ORIENTATION (°)\",\n",
    "        \"LOCATION Speed ( Kmh)\",\n",
    "        \"PROXIMITY (i)\",\n",
    "        \"SOUND LEVEL (dB)\",\n",
    "        \"Satellites in range\",\n",
    "        \"timestamp\"]\n",
    "\n",
    "concatenated_df[cols]"
   ]
  },
  {
   "cell_type": "markdown",
   "metadata": {},
   "source": [
    "# Upload all data to mongodb"
   ]
  },
  {
   "cell_type": "code",
   "execution_count": null,
   "metadata": {},
   "outputs": [],
   "source": [
    "from pymongo import MongoClient\n",
    "import urllib.parse\n",
    "\n",
    "# init mongo connection\n",
    "username = urllib.parse.quote_plus('dbUser')\n",
    "password = urllib.parse.quote_plus(\"PwBhv72bEOq4NGlI\")\n",
    "url = \"mongodb+srv://{}:{}@cluster0.edygp.mongodb.net/test?retryWrites=true&w=majority\".format(username, password)\n",
    "client = MongoClient(url)\n",
    "\n",
    "collection = client[\"ebike_data\"][\"data\"]\n",
    "\n",
    "data = concatenated_df[cols].to_dict(orient='records')  # Here's our added param..\n",
    "\n",
    "#collection.insert_many(data)"
   ]
  },
  {
   "cell_type": "markdown",
   "metadata": {},
   "source": [
    "# Now process data from display GPS positions"
   ]
  },
  {
   "cell_type": "code",
   "execution_count": null,
   "metadata": {},
   "outputs": [],
   "source": [
    "# remove all duplicated long lat positions\n",
    "unique_coords_df = concatenated_df.groupby('abs_loc').last().reset_index()\n",
    "unique_coords_df = unique_coords_df.sort_values(by='timestamp')"
   ]
  },
  {
   "cell_type": "code",
   "execution_count": null,
   "metadata": {},
   "outputs": [],
   "source": [
    "unique_coords_df[\"gps_acceleration\"] = unique_coords_df[\"LOCATION Speed ( Kmh)\"].diff()\n",
    "unique_coords_df[\"power\"] = unique_coords_df[\"gps_acceleration\"] * unique_coords_df[\"LOCATION Speed ( Kmh)\"] * 80\n",
    "\n",
    "#unique_coords_df.to_csv(\n",
    "#    r\"D:\\OneDrive - Imperial College London\\University Storage\\Masters project\\Raw data\\combined.csv\")"
   ]
  },
  {
   "cell_type": "code",
   "execution_count": null,
   "metadata": {},
   "outputs": [],
   "source": [
    "unique_coords_df[\"slope\"] = unique_coords_df[\"LOCATION Altitude ( m)\"].diff()\n",
    "#unique_coords_df[\"slope\"].describe()"
   ]
  },
  {
   "cell_type": "code",
   "execution_count": null,
   "metadata": {},
   "outputs": [],
   "source": [
    "#unique_coords_df[\"slope\"].mask(unique_coords_df[\"slope\"].between(-200, -10), inplace=True)\n",
    "#unique_coords_df[\"slope\"].mask(unique_coords_df[\"slope\"].between(10, 200), inplace=True)"
   ]
  },
  {
   "cell_type": "code",
   "execution_count": null,
   "metadata": {},
   "outputs": [],
   "source": [
    "unique_coords_df.dropna(subset = ['Speed(km/h)'], inplace = True) "
   ]
  },
  {
   "cell_type": "code",
   "execution_count": null,
   "metadata": {},
   "outputs": [],
   "source": [
    "# Display GPS positions\n",
    "fig2 = px.scatter_mapbox(unique_coords_df,\n",
    "                        lat=\"LOCATION Latitude : \",\n",
    "                        lon=\"LOCATION Longitude : \",\n",
    "                        color=\"Speed(km/h)\",#\"slope\",#\"LOCATION Altitude ( m)\",,#\"Speed(km/h)\", # \"abs_acceleration\" or \"gps_acceleration\" or \"power\"\n",
    "                        zoom=14,\n",
    "                        hover_data=[\"YYYY-MO-DD HH-MI-SS_SSS\", \"LOCATION Altitude ( m)\"],\n",
    "                        #size=\"LOCATION Accuracy ( m)\"\n",
    "                       )\n",
    "\n",
    "\n",
    "fig = px.line_mapbox(unique_coords_df,\n",
    "                      lat=\"LOCATION Latitude : \",\n",
    "                      lon=\"LOCATION Longitude : \")\n",
    "fig.add_trace(fig2.data[0]) # adds the line trace to the first figure\n",
    "\n",
    "\n",
    "\n",
    "fig.update_layout(mapbox_style=\"open-street-map\")\n",
    "fig.update_layout(margin={\"r\": 0, \"t\": 0, \"l\": 0, \"b\": 0})\n",
    "fig.write_html(\"plot.html\")\n",
    "fig.show()"
   ]
  },
  {
   "cell_type": "markdown",
   "metadata": {},
   "source": [
    "# Filter slope values"
   ]
  },
  {
   "cell_type": "code",
   "execution_count": null,
   "metadata": {},
   "outputs": [],
   "source": [
    "# We get a triangular window with 60 samples.\n",
    "h = sg.get_window('triang', 60)\n",
    "# We convolve the signal with this window.\n",
    "unique_coords_df[\"fil\"] = sg.convolve(unique_coords_df[\"slope\"], h / h.sum())"
   ]
  },
  {
   "cell_type": "markdown",
   "metadata": {},
   "source": [
    "# Display slope vs time"
   ]
  },
  {
   "cell_type": "code",
   "execution_count": null,
   "metadata": {},
   "outputs": [],
   "source": [
    "# Display accelration\n",
    "fig = px.line(unique_coords_df,\n",
    "              x=\"YYYY-MO-DD HH-MI-SS_SSS\",\n",
    "              y=[\"LOCATION Altitude ( m)\"],\n",
    "              #y=[\"slope\"],\n",
    "\n",
    "              title='altitude'\n",
    "             )\n",
    "fig.write_html(\"plot_slope.html\")\n",
    "fig.show()"
   ]
  }
 ],
 "metadata": {
  "kernelspec": {
   "display_name": "Python 3",
   "language": "python",
   "name": "python3"
  },
  "language_info": {
   "codemirror_mode": {
    "name": "ipython",
    "version": 3
   },
   "file_extension": ".py",
   "mimetype": "text/x-python",
   "name": "python",
   "nbconvert_exporter": "python",
   "pygments_lexer": "ipython3",
   "version": "3.7.3"
  }
 },
 "nbformat": 4,
 "nbformat_minor": 2
}
