{
 "cells": [
  {
   "cell_type": "code",
   "execution_count": null,
   "metadata": {},
   "outputs": [],
   "source": [
    "import pandas as pd"
   ]
  },
  {
   "cell_type": "code",
   "execution_count": null,
   "metadata": {},
   "outputs": [],
   "source": [
    "#!/usr/bin/env python\n",
    "# coding: utf-8\n",
    "#######################################################################\n",
    "# How to setup AndroSensor:\n",
    "# Install AndroSensor\n",
    "# Ensure when installing, allow app to run in background.\n",
    "# Open settings and change recording interval to fast.\n",
    "#\n",
    "#\n",
    "#\n",
    "#######################################################################\n",
    "import glob\n",
    "import os\n",
    "import numpy as np\n",
    "import pandas as pd\n",
    "import plotly.express as px\n",
    "import plotly.io as pio\n",
    "pio.renderers.default = 'browser'\n",
    "import numpy as np\n",
    "import scipy as sp\n",
    "import scipy.signal as sg\n",
    "\n",
    "px.set_mapbox_access_token(open(\".mapbox_token\").read())"
   ]
  },
  {
   "cell_type": "code",
   "execution_count": null,
   "metadata": {},
   "outputs": [],
   "source": [
    "# IF useing ; sep, then delete the first line.\n",
    "path = r'phone_data'  # use your path\n",
    "all_files = glob.glob(os.path.join(path, \"*.csv\")) \n",
    "\n",
    "df_from_each_file = [pd.read_csv(f, sep=\";\") for f in all_files]\n",
    "concatenated_df = pd.concat(df_from_each_file, ignore_index=True, sort=True)\n",
    "\n",
    "# Convert datatime to actual datetime\n",
    "concatenated_df[\"timestamp\"] = pd.to_datetime(concatenated_df[\"YYYY-MO-DD HH-MI-SS_SSS\"],format='%Y-%m-%d %H:%M:%S:%f')\n",
    "concatenated_df[\"Speed(km/h)\"] = concatenated_df[\"LOCATION Speed ( Kmh)\"]"
   ]
  },
  {
   "cell_type": "code",
   "execution_count": null,
   "metadata": {},
   "outputs": [],
   "source": [
    "# calculate abs accleration\n",
    "concatenated_df[\"abs_acceleration\"] = np.linalg.norm(\n",
    "    concatenated_df[[\"ACCELEROMETER X (m/s²)\", \"ACCELEROMETER Y (m/s²)\", \"ACCELEROMETER Z (m/s²)\"]].values, axis=1)\n",
    "\n",
    "# Calculate abs location\n",
    "concatenated_df[\"abs_loc\"] = np.linalg.norm(concatenated_df[['LOCATION Latitude : ', 'LOCATION Longitude : ']].values,\n",
    "                                            axis=1)\n",
    "\n",
    "# Parse GPS sats properly\n",
    "concatenated_df['Satellites in range'] = concatenated_df['Satellites in range'].str.extract(r'(\\d*) \\/ \\d*')\n",
    "concatenated_df['Satellites in range'] = pd.to_numeric(concatenated_df['Satellites in range'] )"
   ]
  },
  {
   "cell_type": "code",
   "execution_count": null,
   "metadata": {},
   "outputs": [],
   "source": [
    "concatenated_df = concatenated_df[~(concatenated_df['timestamp'] < '2021-03-12 18:46:00')]\n",
    "concatenated_df = concatenated_df[~(concatenated_df['timestamp'] > '2021-03-12 18:52:00')]"
   ]
  },
  {
   "cell_type": "markdown",
   "metadata": {},
   "source": [
    "# Display 3-axis acceleration vs time"
   ]
  },
  {
   "cell_type": "code",
   "execution_count": null,
   "metadata": {},
   "outputs": [],
   "source": [
    "# Display accelration\n",
    "fig = px.line(concatenated_df,\n",
    "              x=\"timestamp\",\n",
    "              y=[\"ACCELEROMETER X (m/s²)\", \"ACCELEROMETER Y (m/s²)\", \"ACCELEROMETER Z (m/s²)\"],\n",
    "              title='Acceleration'\n",
    "             )\n"
   ]
  },
  {
   "cell_type": "code",
   "execution_count": null,
   "metadata": {},
   "outputs": [],
   "source": [
    "fig.show()"
   ]
  },
  {
   "cell_type": "markdown",
   "metadata": {},
   "source": [
    "# Parse data from ebike datalogger"
   ]
  },
  {
   "cell_type": "code",
   "execution_count": null,
   "metadata": {},
   "outputs": [],
   "source": [
    "my_cols = [\"ts\", \"sensor\", \"sensor_no\", \"V_bus[V]\", \"V_shunt[mV]\",\"Current[mA]\", \"Power[mW]\"]\n",
    "df = pd.read_csv(\"data.csv\",\n",
    "            names=my_cols,\n",
    "            engine='c')"
   ]
  },
  {
   "cell_type": "code",
   "execution_count": null,
   "metadata": {},
   "outputs": [],
   "source": [
    "df.head()"
   ]
  },
  {
   "cell_type": "code",
   "execution_count": null,
   "metadata": {},
   "outputs": [],
   "source": [
    "df['Datetime'] = pd.to_datetime(df[\"ts\"])\n",
    "df.sort_values(by='Datetime',inplace = True)\n",
    "\n",
    "df = df[~(df['Datetime'] < '2021-03-12 18:46:00')]\n",
    "df = df[~(df['Datetime'] > '2021-03-12 18:52:00')]\n",
    "\n",
    "#df = df.set_index('Datetime')"
   ]
  },
  {
   "cell_type": "code",
   "execution_count": null,
   "metadata": {},
   "outputs": [],
   "source": [
    "df.dtypes"
   ]
  },
  {
   "cell_type": "code",
   "execution_count": null,
   "metadata": {},
   "outputs": [],
   "source": [
    "# Using plotly.express\n",
    "import plotly.express as px\n",
    "import plotly.io as pio\n",
    "pio.renderers.default = 'browser'\n",
    "\n",
    "fig = px.line(df, x = \"Datetime\", y =[\"V_bus[V]\",\"V_shunt[mV]\",\"Current[mA]\",\"Power[mW]\"])\n",
    "fig.show()"
   ]
  },
  {
   "cell_type": "code",
   "execution_count": null,
   "metadata": {},
   "outputs": [],
   "source": [
    "import plotly.graph_objects as go\n",
    "\n",
    "fig = go.Figure()\n",
    "\n",
    "fig.add_trace(go.Scatter(\n",
    "    x=df[\"Datetime\"],\n",
    "    y=df[\"V_bus[V]\"],\n",
    "    name=\"V_bus[V]\"\n",
    "))\n",
    "\n",
    "\n",
    "fig.add_trace(go.Scatter(\n",
    "    x=df[\"Datetime\"],\n",
    "    y=df[\"V_shunt[mV]\"],\n",
    "    name=\"V_shunt[mV]\",\n",
    "    yaxis=\"y2\"\n",
    "))\n",
    "\n",
    "fig.add_trace(go.Scatter(\n",
    "    x=df[\"Datetime\"],\n",
    "    y=df[\"Current[mA]\"],\n",
    "    name=\"Current[mA]\",\n",
    "    yaxis=\"y3\"\n",
    "))\n",
    "\n",
    "fig.add_trace(go.Scatter(\n",
    "    x=df[\"Datetime\"],\n",
    "    y=df[\"Power[mW]\"],\n",
    "    name=\"Power[mW]\",\n",
    "    yaxis=\"y4\"\n",
    "))\n",
    "\n",
    "\n",
    "# Create axis objects\n",
    "fig.update_layout(\n",
    "    yaxis=dict(\n",
    "        title=\"V_bus[V]\",\n",
    "        titlefont=dict(\n",
    "            color=\"#1f77b4\"\n",
    "        ),\n",
    "        tickfont=dict(\n",
    "            color=\"#1f77b4\"\n",
    "        )\n",
    "    ),\n",
    "    yaxis2=dict(\n",
    "        title=\"V_shunt[mV]\",\n",
    "        titlefont=dict(\n",
    "            color=\"#ff7f0e\"\n",
    "        ),\n",
    "        tickfont=dict(\n",
    "            color=\"#ff7f0e\"\n",
    "        ),\n",
    "        anchor=\"free\",\n",
    "        overlaying=\"y\",\n",
    "        side=\"left\",\n",
    "        position=0.05\n",
    "    ),\n",
    "    yaxis3=dict(\n",
    "        title=\"Current[mA]\",\n",
    "        titlefont=dict(\n",
    "            color=\"#d62728\"\n",
    "        ),\n",
    "        tickfont=dict(\n",
    "            color=\"#d62728\"\n",
    "        ),\n",
    "        anchor=\"x\",\n",
    "        overlaying=\"y\",\n",
    "        side=\"right\"\n",
    "    ),\n",
    "    yaxis4=dict(\n",
    "        title=\"Power[mW]\",\n",
    "        titlefont=dict(\n",
    "            color=\"#9467bd\"\n",
    "        ),\n",
    "        tickfont=dict(\n",
    "            color=\"#9467bd\"\n",
    "        ),\n",
    "        anchor=\"free\",\n",
    "        overlaying=\"y\",\n",
    "        side=\"right\",\n",
    "        position=0.95\n",
    "    )\n",
    ")\n",
    "\n",
    "# Update layout properties\n",
    "fig.update_layout(\n",
    "    title_text=\"Power, shunt voltage, battery voltage and current\",\n",
    ")\n",
    "\n",
    "fig.write_html(\"power.html\")\n",
    "\n",
    "\n",
    "fig.show()"
   ]
  },
  {
   "cell_type": "code",
   "execution_count": null,
   "metadata": {},
   "outputs": [],
   "source": []
  }
 ],
 "metadata": {
  "kernelspec": {
   "display_name": "Python 3",
   "language": "python",
   "name": "python3"
  },
  "language_info": {
   "codemirror_mode": {
    "name": "ipython",
    "version": 3
   },
   "file_extension": ".py",
   "mimetype": "text/x-python",
   "name": "python",
   "nbconvert_exporter": "python",
   "pygments_lexer": "ipython3",
   "version": "3.7.3"
  }
 },
 "nbformat": 4,
 "nbformat_minor": 2
}
