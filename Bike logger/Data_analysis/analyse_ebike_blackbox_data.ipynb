{
 "cells": [
  {
   "cell_type": "code",
   "execution_count": null,
   "metadata": {},
   "outputs": [],
   "source": [
    "import pandas as pd"
   ]
  },
  {
   "cell_type": "code",
   "execution_count": null,
   "metadata": {},
   "outputs": [],
   "source": [
    "my_cols = [\"ts\", \"sensor\", \"sensor_no\", \"V_bus[V]\", \"V_shunt[mV]\",\"Current[mA]\", \"Power[mW]\"]\n",
    "df = pd.read_csv(\"data.csv\",\n",
    "            names=my_cols,\n",
    "            engine='c')"
   ]
  },
  {
   "cell_type": "code",
   "execution_count": null,
   "metadata": {},
   "outputs": [],
   "source": [
    "df.head()"
   ]
  },
  {
   "cell_type": "code",
   "execution_count": null,
   "metadata": {},
   "outputs": [],
   "source": [
    "df['Datetime'] = pd.to_datetime(df[\"ts\"])\n",
    "df.sort_values(by='Datetime',inplace = True)\n",
    "\n",
    "df = df[~(df['Datetime'] < '2021-03-12 18:46:00')]\n",
    "#df = df.set_index('Datetime')"
   ]
  },
  {
   "cell_type": "code",
   "execution_count": null,
   "metadata": {},
   "outputs": [],
   "source": [
    "df.dtypes"
   ]
  },
  {
   "cell_type": "code",
   "execution_count": null,
   "metadata": {},
   "outputs": [],
   "source": [
    "# Using plotly.express\n",
    "import plotly.express as px\n",
    "import plotly.io as pio\n",
    "pio.renderers.default = 'browser'\n",
    "\n",
    "fig = px.line(df, x = \"Datetime\", y =[\"V_bus[V]\",\"V_shunt[mV]\",\"Current[mA]\",\"Power[mW]\"])\n",
    "fig.show()"
   ]
  },
  {
   "cell_type": "code",
   "execution_count": null,
   "metadata": {},
   "outputs": [],
   "source": [
    "import plotly.graph_objects as go\n",
    "\n",
    "fig = go.Figure()\n",
    "\n",
    "fig.add_trace(go.Scatter(\n",
    "    x=df[\"Datetime\"],\n",
    "    y=df[\"V_bus[V]\"],\n",
    "    name=\"V_bus[V]\"\n",
    "))\n",
    "\n",
    "\n",
    "fig.add_trace(go.Scatter(\n",
    "    x=df[\"Datetime\"],\n",
    "    y=df[\"V_shunt[mV]\"],\n",
    "    name=\"V_shunt[mV]\",\n",
    "    yaxis=\"y2\"\n",
    "))\n",
    "\n",
    "fig.add_trace(go.Scatter(\n",
    "    x=df[\"Datetime\"],\n",
    "    y=df[\"Current[mA]\"],\n",
    "    name=\"Current[mA]\",\n",
    "    yaxis=\"y3\"\n",
    "))\n",
    "\n",
    "fig.add_trace(go.Scatter(\n",
    "    x=df[\"Datetime\"],\n",
    "    y=df[\"Power[mW]\"],\n",
    "    name=\"Power[mW]\",\n",
    "    yaxis=\"y4\"\n",
    "))\n",
    "\n",
    "\n",
    "# Create axis objects\n",
    "fig.update_layout(\n",
    "    yaxis=dict(\n",
    "        title=\"V_bus[V]\",\n",
    "        titlefont=dict(\n",
    "            color=\"#1f77b4\"\n",
    "        ),\n",
    "        tickfont=dict(\n",
    "            color=\"#1f77b4\"\n",
    "        )\n",
    "    ),\n",
    "    yaxis2=dict(\n",
    "        title=\"V_shunt[mV]\",\n",
    "        titlefont=dict(\n",
    "            color=\"#ff7f0e\"\n",
    "        ),\n",
    "        tickfont=dict(\n",
    "            color=\"#ff7f0e\"\n",
    "        ),\n",
    "        anchor=\"free\",\n",
    "        overlaying=\"y\",\n",
    "        side=\"left\",\n",
    "        position=0.05\n",
    "    ),\n",
    "    yaxis3=dict(\n",
    "        title=\"Current[mA]\",\n",
    "        titlefont=dict(\n",
    "            color=\"#d62728\"\n",
    "        ),\n",
    "        tickfont=dict(\n",
    "            color=\"#d62728\"\n",
    "        ),\n",
    "        anchor=\"x\",\n",
    "        overlaying=\"y\",\n",
    "        side=\"right\"\n",
    "    ),\n",
    "    yaxis4=dict(\n",
    "        title=\"Power[mW]\",\n",
    "        titlefont=dict(\n",
    "            color=\"#9467bd\"\n",
    "        ),\n",
    "        tickfont=dict(\n",
    "            color=\"#9467bd\"\n",
    "        ),\n",
    "        anchor=\"free\",\n",
    "        overlaying=\"y\",\n",
    "        side=\"right\",\n",
    "        position=0.95\n",
    "    )\n",
    ")\n",
    "\n",
    "# Update layout properties\n",
    "fig.update_layout(\n",
    "    title_text=\"Power, shunt voltage, battery voltage and current\",\n",
    ")\n",
    "\n",
    "fig.show()"
   ]
  }
 ],
 "metadata": {
  "kernelspec": {
   "display_name": "Python 3",
   "language": "python",
   "name": "python3"
  },
  "language_info": {
   "codemirror_mode": {
    "name": "ipython",
    "version": 3
   },
   "file_extension": ".py",
   "mimetype": "text/x-python",
   "name": "python",
   "nbconvert_exporter": "python",
   "pygments_lexer": "ipython3",
   "version": "3.7.3"
  }
 },
 "nbformat": 4,
 "nbformat_minor": 2
}
