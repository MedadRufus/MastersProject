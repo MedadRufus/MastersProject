{
 "cells": [
  {
   "cell_type": "code",
   "execution_count": 102,
   "metadata": {},
   "outputs": [],
   "source": [
    "import json\n",
    "from pathlib import Path\n",
    "from statistics import variance\n",
    "\n",
    "path = Path(r'datadump')\n",
    "\n",
    "bikes = {}\n",
    "\n",
    "# Choose either \"helbiz_*.json\" or \"bird_*.json or \"lime_*.json\"\n",
    "for e in path.glob('helbiz_*.json'):\n",
    "    json_data = json.loads(e.read_text())\n",
    "    for i in json_data[\"data\"][\"bikes\"]:\n",
    "        bikes[i[\"bike_id\"]] = bikes.get(i[\"bike_id\"], []) + [i]"
   ]
  },
  {
   "cell_type": "code",
   "execution_count": 103,
   "metadata": {},
   "outputs": [
    {
     "name": "stdout",
     "output_type": "stream",
     "text": [
      "[{'bike_id': 'F6Y2', 'lat': 38.89914321899414, 'lon': -77.02869415283203, 'is_reserved': 0, 'is_disabled': 0, 'in_use': 0, 'is_unavailable': 0, 'idle_time': 20869174, 'vehicle_type': 'bicycle'}, {'bike_id': 'F6Y2', 'lat': 38.89914321899414, 'lon': -77.02869415283203, 'is_reserved': 0, 'is_disabled': 0, 'in_use': 0, 'is_unavailable': 0, 'idle_time': 20869195, 'vehicle_type': 'bicycle'}, {'bike_id': 'F6Y2', 'lat': 38.89914321899414, 'lon': -77.02869415283203, 'is_reserved': 0, 'is_disabled': 0, 'in_use': 0, 'is_unavailable': 0, 'idle_time': 20869234, 'vehicle_type': 'bicycle'}, {'bike_id': 'F6Y2', 'lat': 38.89914321899414, 'lon': -77.02869415283203, 'is_reserved': 0, 'is_disabled': 0, 'in_use': 0, 'is_unavailable': 0, 'idle_time': 20869264, 'vehicle_type': 'bicycle'}, {'bike_id': 'F6Y2', 'lat': 38.89914321899414, 'lon': -77.02869415283203, 'is_reserved': 0, 'is_disabled': 0, 'in_use': 0, 'is_unavailable': 0, 'idle_time': 20869294, 'vehicle_type': 'bicycle'}, {'bike_id': 'F6Y2', 'lat': 38.89914321899414, 'lon': -77.02869415283203, 'is_reserved': 0, 'is_disabled': 0, 'in_use': 0, 'is_unavailable': 0, 'idle_time': 20869324, 'vehicle_type': 'bicycle'}, {'bike_id': 'F6Y2', 'lat': 38.89914321899414, 'lon': -77.02869415283203, 'is_reserved': 0, 'is_disabled': 0, 'in_use': 0, 'is_unavailable': 0, 'idle_time': 20869354, 'vehicle_type': 'bicycle'}, {'bike_id': 'F6Y2', 'lat': 38.89914321899414, 'lon': -77.02869415283203, 'is_reserved': 0, 'is_disabled': 0, 'in_use': 0, 'is_unavailable': 0, 'idle_time': 20869384, 'vehicle_type': 'bicycle'}, {'bike_id': 'F6Y2', 'lat': 38.89914321899414, 'lon': -77.02869415283203, 'is_reserved': 0, 'is_disabled': 0, 'in_use': 0, 'is_unavailable': 0, 'idle_time': 20869504, 'vehicle_type': 'bicycle'}, {'bike_id': 'F6Y2', 'lat': 38.89914321899414, 'lon': -77.02869415283203, 'is_reserved': 0, 'is_disabled': 0, 'in_use': 0, 'is_unavailable': 0, 'idle_time': 20869534, 'vehicle_type': 'bicycle'}]\n"
     ]
    }
   ],
   "source": [
    "for bike in bikes:\n",
    "    try:\n",
    "        #print(*bikes[bike],sep=\"\\n\")\n",
    "        #positions = [float(i[\"lon\"]) for i in bikes[bike]]\n",
    "        #print(bike,\":\",variance(positions),\":\",positions)\n",
    "        print(bikes[bike][0:10])\n",
    "        break\n",
    "    except:\n",
    "        pass"
   ]
  },
  {
   "cell_type": "code",
   "execution_count": 104,
   "metadata": {},
   "outputs": [],
   "source": [
    "positions = []\n",
    "for bike in bikes:\n",
    "    positions.append({\"uuid\":bike,\"lon\":float(bikes[bike][0][\"lon\"]),\"lat\":float(bikes[bike][0][\"lat\"])})"
   ]
  },
  {
   "cell_type": "code",
   "execution_count": 105,
   "metadata": {},
   "outputs": [
    {
     "name": "stdout",
     "output_type": "stream",
     "text": [
      "[{'uuid': 'F6Y2', 'lon': -77.02869415283203, 'lat': 38.89914321899414}, {'uuid': 'E5P4', 'lon': -76.97775268554688, 'lat': 38.92806625366211}, {'uuid': 'EG222180900380', 'lon': -76.97764587402344, 'lat': 38.9278450012207}, {'uuid': 'Y4I8', 'lon': -76.9776611328125, 'lat': 38.92802810668945}, {'uuid': 'F5J2', 'lon': -76.91854858398438, 'lat': 38.89463424682617}]\n"
     ]
    }
   ],
   "source": [
    "print(positions[:5])"
   ]
  },
  {
   "cell_type": "code",
   "execution_count": 106,
   "metadata": {},
   "outputs": [],
   "source": [
    "import pandas as pd"
   ]
  },
  {
   "cell_type": "code",
   "execution_count": 107,
   "metadata": {},
   "outputs": [
    {
     "data": {
      "text/plain": [
       "lat     477\n",
       "lon     477\n",
       "uuid    477\n",
       "dtype: int64"
      ]
     },
     "execution_count": 107,
     "metadata": {},
     "output_type": "execute_result"
    }
   ],
   "source": [
    "positions_df = pd.DataFrame.from_dict(positions)\n",
    "positions_df = positions_df.drop_duplicates()\n",
    "positions_df.count()"
   ]
  },
  {
   "cell_type": "code",
   "execution_count": 108,
   "metadata": {},
   "outputs": [
    {
     "data": {
      "text/html": [
       "<div>\n",
       "<style scoped>\n",
       "    .dataframe tbody tr th:only-of-type {\n",
       "        vertical-align: middle;\n",
       "    }\n",
       "\n",
       "    .dataframe tbody tr th {\n",
       "        vertical-align: top;\n",
       "    }\n",
       "\n",
       "    .dataframe thead th {\n",
       "        text-align: right;\n",
       "    }\n",
       "</style>\n",
       "<table border=\"1\" class=\"dataframe\">\n",
       "  <thead>\n",
       "    <tr style=\"text-align: right;\">\n",
       "      <th></th>\n",
       "      <th>lat</th>\n",
       "      <th>lon</th>\n",
       "    </tr>\n",
       "  </thead>\n",
       "  <tbody>\n",
       "    <tr>\n",
       "      <th>count</th>\n",
       "      <td>477.000000</td>\n",
       "      <td>477.000000</td>\n",
       "    </tr>\n",
       "    <tr>\n",
       "      <th>mean</th>\n",
       "      <td>38.768333</td>\n",
       "      <td>-77.014197</td>\n",
       "    </tr>\n",
       "    <tr>\n",
       "      <th>std</th>\n",
       "      <td>2.650225</td>\n",
       "      <td>6.190970</td>\n",
       "    </tr>\n",
       "    <tr>\n",
       "      <th>min</th>\n",
       "      <td>0.000000</td>\n",
       "      <td>-123.123344</td>\n",
       "    </tr>\n",
       "    <tr>\n",
       "      <th>25%</th>\n",
       "      <td>38.800869</td>\n",
       "      <td>-77.126534</td>\n",
       "    </tr>\n",
       "    <tr>\n",
       "      <th>50%</th>\n",
       "      <td>38.874760</td>\n",
       "      <td>-77.025558</td>\n",
       "    </tr>\n",
       "    <tr>\n",
       "      <th>75%</th>\n",
       "      <td>38.927940</td>\n",
       "      <td>-76.977753</td>\n",
       "    </tr>\n",
       "    <tr>\n",
       "      <th>max</th>\n",
       "      <td>49.273750</td>\n",
       "      <td>0.000000</td>\n",
       "    </tr>\n",
       "  </tbody>\n",
       "</table>\n",
       "</div>"
      ],
      "text/plain": [
       "              lat         lon\n",
       "count  477.000000  477.000000\n",
       "mean    38.768333  -77.014197\n",
       "std      2.650225    6.190970\n",
       "min      0.000000 -123.123344\n",
       "25%     38.800869  -77.126534\n",
       "50%     38.874760  -77.025558\n",
       "75%     38.927940  -76.977753\n",
       "max     49.273750    0.000000"
      ]
     },
     "execution_count": 108,
     "metadata": {},
     "output_type": "execute_result"
    }
   ],
   "source": [
    "positions_df.describe()"
   ]
  },
  {
   "cell_type": "code",
   "execution_count": 109,
   "metadata": {},
   "outputs": [
    {
     "data": {
      "text/plain": [
       "lat     float64\n",
       "lon     float64\n",
       "uuid     object\n",
       "dtype: object"
      ]
     },
     "execution_count": 109,
     "metadata": {},
     "output_type": "execute_result"
    }
   ],
   "source": [
    "positions_df.dtypes"
   ]
  },
  {
   "cell_type": "code",
   "execution_count": 110,
   "metadata": {},
   "outputs": [],
   "source": [
    "import pandas as pd\n",
    "import plotly.express as px\n",
    "\n",
    "\n",
    "class Plotter:\n",
    "\n",
    "    def plot(self, df):\n",
    "        \n",
    "        fig = px.scatter_mapbox(df, lat=\"lat\", lon=\"lon\",hover_data=[\"uuid\"])\n",
    "\n",
    "        fig.update_layout(mapbox_style=\"open-street-map\")\n",
    "        fig.update_layout(margin={\"r\":0,\"t\":0,\"l\":0,\"b\":0})\n",
    "        return fig\n",
    "\n",
    "    def save_plot(self, fig):\n",
    "        file_path = html_render_location / \"plot.html\"\n",
    "        fig.write_html(str(file_path))\n",
    "\n",
    "    def show_plot(self, fig):\n",
    "        fig.show()\n",
    "\n",
    "    def plot_and_save(self, json_fp: Path):\n",
    "        p = self.plot(json_fp)\n",
    "        self.save_plot(p)"
   ]
  },
  {
   "cell_type": "code",
   "execution_count": 111,
   "metadata": {},
   "outputs": [],
   "source": [
    "import plotly.io as pio\n",
    "pio.renderers.default = 'browser'\n",
    "\n",
    "plotter = Plotter()\n",
    "fig = plotter.plot(positions_df)\n",
    "plotter.show_plot(fig)"
   ]
  },
  {
   "cell_type": "code",
   "execution_count": null,
   "metadata": {},
   "outputs": [],
   "source": []
  }
 ],
 "metadata": {
  "kernelspec": {
   "display_name": "Python 3",
   "language": "python",
   "name": "python3"
  },
  "language_info": {
   "codemirror_mode": {
    "name": "ipython",
    "version": 3
   },
   "file_extension": ".py",
   "mimetype": "text/x-python",
   "name": "python",
   "nbconvert_exporter": "python",
   "pygments_lexer": "ipython3",
   "version": "3.7.3"
  }
 },
 "nbformat": 4,
 "nbformat_minor": 2
}
