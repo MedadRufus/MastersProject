{
 "cells": [
  {
   "cell_type": "code",
   "execution_count": null,
   "id": "e57f60cc-584a-485f-8fd9-b5e04455a1cb",
   "metadata": {
    "tags": []
   },
   "outputs": [],
   "source": [
    "!pip install pyshp\n",
    "!pip install geopandas\n",
    "!pip install --upgrade nbformat\n",
    "## Ensure running conda install --channel conda-forge cartopy before\n",
    "!pip install geoplot\n",
    "\n",
    "\n",
    "!pip install PyBNG"
   ]
  },
  {
   "cell_type": "code",
   "execution_count": null,
   "id": "9972eaea-adeb-4182-a968-4a17beb376d2",
   "metadata": {},
   "outputs": [],
   "source": [
    "import geopandas as gpd\n",
    "import glob\n",
    "import pandas as pd\n",
    "\n",
    "# Read SHx files\n",
    "\n",
    "\n",
    "\n",
    "## Grid references for London: https://getoutside.ordnancesurvey.co.uk/guides/beginners-guide-to-grid-references/\n",
    "files = [\n",
    "    \"SP_RoadNode.shx\",\n",
    "    \"TL_RoadNode.shx\",\n",
    "    \"SU_RoadNode.shx\",\n",
    "    \"TQ_RoadNode.shx\"\n",
    "]\n",
    "\n",
    "path = \"data_storage/data_storage/oproad_essh_gb/data/\"\n",
    "\n",
    "paths = [path+file for file in files]\n",
    "\n",
    "geo_df = pd.concat(map(gpd.read_file, paths))\n",
    "\n",
    "\n",
    "\n",
    "#lga_gdf = gpd.read_file('data_storage/data_storage/oproad_essh_gb/data/SP_RoadNode.shx')    # Load the data using Geopandas"
   ]
  },
  {
   "cell_type": "code",
   "execution_count": null,
   "id": "33cddec5-8dd8-4084-a2c1-626b79e4066b",
   "metadata": {},
   "outputs": [],
   "source": [
    "type(geo_df)"
   ]
  },
  {
   "cell_type": "code",
   "execution_count": null,
   "id": "eea21a2c-8c26-47e6-beac-0f8d76dac47e",
   "metadata": {},
   "outputs": [],
   "source": [
    "geo_df.geometry.x/1e4"
   ]
  },
  {
   "cell_type": "code",
   "execution_count": null,
   "id": "3d224d48-5b68-4c9b-a402-98bb34960800",
   "metadata": {},
   "outputs": [],
   "source": [
    "geo_df.head(1000)"
   ]
  },
  {
   "cell_type": "code",
   "execution_count": null,
   "id": "e00edf25-954e-4e20-959e-1a9f64e7665c",
   "metadata": {},
   "outputs": [],
   "source": [
    "geo_df.dtypes"
   ]
  },
  {
   "cell_type": "code",
   "execution_count": null,
   "id": "93d77113-7a21-444d-a23e-fddd758d2067",
   "metadata": {},
   "outputs": [],
   "source": [
    "vals = geo_df.geometry.x/1e4\n",
    "vals.describe()"
   ]
  },
  {
   "cell_type": "code",
   "execution_count": null,
   "id": "54b2451c-a61a-4a63-8167-4317cc77f230",
   "metadata": {},
   "outputs": [],
   "source": [
    "vals = geo_df.geometry.y/1e4\n",
    "vals.describe()"
   ]
  },
  {
   "cell_type": "code",
   "execution_count": null,
   "id": "4b2a8095-b667-4db2-8d04-a19165c40fdf",
   "metadata": {
    "tags": []
   },
   "outputs": [],
   "source": [
    "geo_df[\"formOfNode\"].unique()"
   ]
  },
  {
   "cell_type": "code",
   "execution_count": null,
   "id": "bb7f5f6d-296f-4d45-8725-72e588d91087",
   "metadata": {
    "tags": []
   },
   "outputs": [],
   "source": [
    "geo_df[\"formOfNode\"].value_counts()"
   ]
  },
  {
   "cell_type": "code",
   "execution_count": null,
   "id": "8d053df2-1f66-4a79-8b36-eda8f3b1904a",
   "metadata": {},
   "outputs": [],
   "source": [
    "geo_df.count()"
   ]
  },
  {
   "cell_type": "markdown",
   "id": "a42619b3-f7c5-437c-aa5f-8be987d52ec5",
   "metadata": {},
   "source": [
    "### Conversion "
   ]
  },
  {
   "cell_type": "code",
   "execution_count": null,
   "id": "ccebe24b-8cf0-41fc-b633-ef398cb9dbb5",
   "metadata": {},
   "outputs": [],
   "source": [
    "def convert_bng_to_wsg(coord):\n",
    "    \n",
    "    print(coord.geometry.x*100, coord.geometry.y*100)\n",
    "\n",
    "    bng = PyBNG(easting=int(coord.geometry.x*1000), northing=int(coord.geometry.y*1000))\n",
    "    coord[\"latitude\"], coord[\"longitude\"] = bng.get_latlon()\n",
    "#     coord[\"latitude\"]*=0.9996012717\n",
    "#     coord[\"longitude\"]*=0.9996012717\n",
    "\n",
    "    return coord"
   ]
  },
  {
   "cell_type": "code",
   "execution_count": null,
   "id": "ae4e72a1-59c8-4eb3-b2c7-bddfabf33724",
   "metadata": {
    "tags": []
   },
   "outputs": [],
   "source": [
    "from PyBNG import PyBNG\n",
    "\n",
    "\n",
    "\n",
    "\n",
    "import plotly.express as px\n",
    "import geopandas as gpd\n",
    "import plotly.io as pio\n",
    "pio.renderers.default = 'browser'\n",
    "\n",
    "sample = geo_df.sample(n=1000)\n",
    "sample = sample.apply(convert_bng_to_wsg, axis=1)"
   ]
  },
  {
   "cell_type": "code",
   "execution_count": null,
   "id": "97816bfc-c5a3-4837-959e-897f4ad0812f",
   "metadata": {},
   "outputs": [],
   "source": [
    "fig = px.scatter_mapbox(sample,\n",
    "    lat=sample.latitude,\n",
    "    lon=sample.longitude,\n",
    "    hover_name=\"formOfNode\",\n",
    "    zoom=14\n",
    ")\n",
    "\n",
    "fig.update_layout(mapbox_style=\"carto-positron\")\n",
    "fig.update_layout(margin={\"r\": 0, \"t\": 0, \"l\": 0, \"b\": 0})\n",
    "fig.write_html(\"output/road_features.html\")\n",
    "fig.show()"
   ]
  }
 ],
 "metadata": {
  "kernelspec": {
   "display_name": "Masters",
   "language": "python",
   "name": "masters"
  },
  "language_info": {
   "codemirror_mode": {
    "name": "ipython",
    "version": 3
   },
   "file_extension": ".py",
   "mimetype": "text/x-python",
   "name": "python",
   "nbconvert_exporter": "python",
   "pygments_lexer": "ipython3",
   "version": "3.8.5"
  }
 },
 "nbformat": 4,
 "nbformat_minor": 5
}
