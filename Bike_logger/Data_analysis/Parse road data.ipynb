{
 "cells": [
  {
   "cell_type": "code",
   "execution_count": null,
   "id": "622c44be-507b-4d84-a1a8-dbc2ced4b057",
   "metadata": {
    "tags": []
   },
   "outputs": [],
   "source": [
    "!pip install pyshp\n",
    "!pip install geopandas\n",
    "!pip install --upgrade nbformat\n",
    "## Ensure running conda install --channel conda-forge cartopy before\n",
    "!pip install geoplot\n",
    "\n",
    "\n",
    "!pip install PyBNG\n",
    "\n",
    "\n",
    "!pip install convertbng"
   ]
  },
  {
   "cell_type": "code",
   "execution_count": null,
   "id": "0c947eb4-f197-43b2-8b4b-88f15d69fcba",
   "metadata": {},
   "outputs": [],
   "source": [
    "import geopandas as gpd\n",
    "import glob\n",
    "import pandas as pd\n",
    "from convertbng.util import convert_bng, convert_lonlat\n",
    "\n",
    "\n",
    "\n",
    "# Grid references for London: https://getoutside.ordnancesurvey.co.uk/guides/beginners-guide-to-grid-references/\n",
    "# Read SHx files\n",
    "files = [\n",
    "#     \"SP_RoadNode.shx\",\n",
    "#     \"TL_RoadNode.shx\",\n",
    "#     \"SU_RoadNode.shx\",\n",
    "#     \"TQ_RoadNode.shx\",\n",
    "     \"NC_RoadNode.shx\"\n",
    "\n",
    "]\n",
    "\n",
    "path = \"data_storage/data_storage/oproad_essh_gb/data/\"\n",
    "\n",
    "paths = [path+file for file in files]\n",
    "\n",
    "geo_df = pd.concat(map(gpd.read_file, paths))\n",
    "\n",
    "\n",
    "\n",
    "#lga_gdf = gpd.read_file('data_storage/data_storage/oproad_essh_gb/data/SP_RoadNode.shx')    # Load the data using Geopandas"
   ]
  },
  {
   "cell_type": "code",
   "execution_count": null,
   "id": "33cddec5-8dd8-4084-a2c1-626b79e4066b",
   "metadata": {},
   "outputs": [],
   "source": [
    "type(geo_df)"
   ]
  },
  {
   "cell_type": "code",
   "execution_count": null,
   "id": "3d224d48-5b68-4c9b-a402-98bb34960800",
   "metadata": {},
   "outputs": [],
   "source": [
    "geo_df.head()"
   ]
  },
  {
   "cell_type": "code",
   "execution_count": null,
   "id": "e00edf25-954e-4e20-959e-1a9f64e7665c",
   "metadata": {},
   "outputs": [],
   "source": [
    "geo_df.dtypes"
   ]
  },
  {
   "cell_type": "code",
   "execution_count": null,
   "id": "4b2a8095-b667-4db2-8d04-a19165c40fdf",
   "metadata": {
    "tags": []
   },
   "outputs": [],
   "source": [
    "geo_df[\"formOfNode\"].unique()"
   ]
  },
  {
   "cell_type": "code",
   "execution_count": null,
   "id": "bb7f5f6d-296f-4d45-8725-72e588d91087",
   "metadata": {
    "tags": []
   },
   "outputs": [],
   "source": [
    "geo_df[\"formOfNode\"].value_counts()"
   ]
  },
  {
   "cell_type": "code",
   "execution_count": null,
   "id": "8d053df2-1f66-4a79-8b36-eda8f3b1904a",
   "metadata": {},
   "outputs": [],
   "source": [
    "geo_df.count()"
   ]
  },
  {
   "cell_type": "markdown",
   "id": "a42619b3-f7c5-437c-aa5f-8be987d52ec5",
   "metadata": {},
   "source": [
    "### Conversion "
   ]
  },
  {
   "cell_type": "code",
   "execution_count": null,
   "id": "ae4e72a1-59c8-4eb3-b2c7-bddfabf33724",
   "metadata": {
    "tags": []
   },
   "outputs": [],
   "source": [
    "import plotly.express as px\n",
    "import geopandas as gpd\n",
    "import plotly.io as pio\n",
    "pio.renderers.default = 'browser'\n",
    "\n",
    "sample = geo_df#.sample(n=1000)\n",
    "\n",
    "sample[\"longitude\"], sample[\"latitude\"] = convert_lonlat(sample.geometry.x, sample.geometry.y)"
   ]
  },
  {
   "cell_type": "code",
   "execution_count": null,
   "id": "97816bfc-c5a3-4837-959e-897f4ad0812f",
   "metadata": {},
   "outputs": [],
   "source": [
    "fig = px.scatter_mapbox(sample,\n",
    "    lat=sample.latitude,\n",
    "    lon=sample.longitude,\n",
    "    hover_name=\"formOfNode\",\n",
    "    zoom=14\n",
    ")\n",
    "\n",
    "fig.update_layout(mapbox_style=\"carto-positron\")\n",
    "fig.update_layout(margin={\"r\": 0, \"t\": 0, \"l\": 0, \"b\": 0})\n",
    "fig.write_html(\"output/road_features.html\")\n",
    "fig.show()"
   ]
  },
  {
   "cell_type": "markdown",
   "id": "d21d6985-c491-4e62-80c2-7dd403003534",
   "metadata": {},
   "source": [
    "## Find nearest neighbour and distance from it"
   ]
  },
  {
   "cell_type": "code",
   "execution_count": null,
   "id": "adf2d695-cf16-464e-ba77-c92ba190413d",
   "metadata": {},
   "outputs": [],
   "source": [
    "import numpy as np\n",
    "import geopandas as gpd\n",
    "from shapely.geometry import Point\n",
    "from sklearn.neighbors import BallTree\n",
    "\n",
    "## Create the two GeoDataFrame to replicate your dataset\n",
    "appart = gpd.GeoDataFrame({\n",
    "        'geometry': Point(a, b),\n",
    "        'x': a,\n",
    "        'y': b,\n",
    "    } for a, b in zip(np.random.rand(100000), np.random.rand(100000))\n",
    ")\n",
    "\n",
    "pharma = gpd.GeoDataFrame([{\n",
    "        'geometry': Point(a, b),\n",
    "        'x': a,\n",
    "        'y': b,\n",
    "    } for a, b in zip(np.random.rand(3000), np.random.rand(3000))\n",
    "])\n",
    "\n",
    "# Create a BallTree \n",
    "tree = BallTree(pharma[['x', 'y']].values, leaf_size=2)\n",
    "\n",
    "# Query the BallTree on each feature from 'appart' to find the distance\n",
    "# to the nearest 'pharma' and its id\n",
    "appart['distance_nearest'], appart['id_nearest'] = tree.query(\n",
    "    appart[['x', 'y']].values, # The input array for the query\n",
    "    k=1, # The number of nearest neighbors\n",
    ")\n"
   ]
  },
  {
   "cell_type": "code",
   "execution_count": null,
   "id": "e51e7f9e-022b-4451-8bc0-39feca4229ce",
   "metadata": {},
   "outputs": [],
   "source": [
    "# Python3 implementation of the approach\n",
    "from math import sqrt\n",
    " \n",
    "# Function to find the circle on\n",
    "# which the given three points lie\n",
    "def findCircle(x1, y1, x2, y2, x3, y3) :\n",
    "    x12 = x1 - x2;\n",
    "    x13 = x1 - x3;\n",
    " \n",
    "    y12 = y1 - y2;\n",
    "    y13 = y1 - y3;\n",
    " \n",
    "    y31 = y3 - y1;\n",
    "    y21 = y2 - y1;\n",
    " \n",
    "    x31 = x3 - x1;\n",
    "    x21 = x2 - x1;\n",
    " \n",
    "    # x1^2 - x3^2\n",
    "    sx13 = pow(x1, 2) - pow(x3, 2);\n",
    " \n",
    "    # y1^2 - y3^2\n",
    "    sy13 = pow(y1, 2) - pow(y3, 2);\n",
    " \n",
    "    sx21 = pow(x2, 2) - pow(x1, 2);\n",
    "    sy21 = pow(y2, 2) - pow(y1, 2);\n",
    " \n",
    "    f = (((sx13) * (x12) + (sy13) *\n",
    "          (x12) + (sx21) * (x13) +\n",
    "          (sy21) * (x13)) / (2 *\n",
    "          ((y31) * (x12) - (y21) * (x13))));\n",
    "             \n",
    "    g = (((sx13) * (y12) + (sy13) * (y12) +\n",
    "          (sx21) * (y13) + (sy21) * (y13)) /\n",
    "          (2 * ((x31) * (y12) - (x21) * (y13))));\n",
    " \n",
    "    c = (-pow(x1, 2) - pow(y1, 2) -\n",
    "         2 * g * x1 - 2 * f * y1);\n",
    " \n",
    "    # eqn of circle be x^2 + y^2 + 2*g*x + 2*f*y + c = 0\n",
    "    # where centre is (h = -g, k = -f) and\n",
    "    # radius r as r^2 = h^2 + k^2 - c\n",
    "    h = -g;\n",
    "    k = -f;\n",
    "    sqr_of_r = h * h + k * k - c;\n",
    " \n",
    "    # r is the radius\n",
    "    r = round(sqrt(sqr_of_r), 5);\n",
    " \n",
    "    print(\"Centre = (\", h, \", \", k, \")\");\n",
    "    print(\"Radius = \", r);\n",
    " \n",
    "# Driver code\n",
    "if __name__ == \"__main__\" :\n",
    "     \n",
    "    x1 = 1 ; y1 = 1;\n",
    "    x2 = 2 ; y2 = 4;\n",
    "    x3 = 5 ; y3 = 3;\n",
    "    findCircle(x1, y1, x2, y2, x3, y3);\n",
    " \n",
    "# This code is contributed by Ryuga"
   ]
  },
  {
   "cell_type": "code",
   "execution_count": null,
   "id": "3a2d6ce0-395e-49be-912b-123efc78aec4",
   "metadata": {},
   "outputs": [],
   "source": []
  }
 ],
 "metadata": {
  "kernelspec": {
   "display_name": "Masters",
   "language": "python",
   "name": "masters"
  },
  "language_info": {
   "codemirror_mode": {
    "name": "ipython",
    "version": 3
   },
   "file_extension": ".py",
   "mimetype": "text/x-python",
   "name": "python",
   "nbconvert_exporter": "python",
   "pygments_lexer": "ipython3",
   "version": "3.8.5"
  }
 },
 "nbformat": 4,
 "nbformat_minor": 5
}
