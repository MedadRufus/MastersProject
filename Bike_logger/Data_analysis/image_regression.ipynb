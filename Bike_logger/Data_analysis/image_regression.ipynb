{
 "cells": [
  {
   "cell_type": "code",
   "execution_count": 1,
   "metadata": {
    "colab": {
     "base_uri": "https://localhost:8080/"
    },
    "collapsed": true,
    "id": "o3cnaidu2EtG",
    "jupyter": {
     "outputs_hidden": true
    },
    "outputId": "04c7cd6d-69af-4646-b349-580962e62557"
   },
   "outputs": [
    {
     "name": "stdout",
     "output_type": "stream",
     "text": [
      "Requirement already satisfied: autokeras in /home/medad/anaconda3/lib/python3.8/site-packages (1.0.13)\n",
      "Requirement already satisfied: scikit-learn in /home/medad/anaconda3/lib/python3.8/site-packages (from autokeras) (0.23.2)\n",
      "Requirement already satisfied: keras-tuner>=1.0.2 in /home/medad/anaconda3/lib/python3.8/site-packages (from autokeras) (1.0.2)\n",
      "Requirement already satisfied: packaging in /home/medad/anaconda3/lib/python3.8/site-packages (from autokeras) (20.4)\n",
      "Requirement already satisfied: tensorflow>=2.3.0 in /home/medad/anaconda3/lib/python3.8/site-packages (from autokeras) (2.5.0)\n",
      "Requirement already satisfied: pandas in /home/medad/anaconda3/lib/python3.8/site-packages (from autokeras) (1.1.3)\n",
      "Requirement already satisfied: numpy>=1.13.3 in /home/medad/anaconda3/lib/python3.8/site-packages (from scikit-learn->autokeras) (1.19.2)\n",
      "Requirement already satisfied: threadpoolctl>=2.0.0 in /home/medad/anaconda3/lib/python3.8/site-packages (from scikit-learn->autokeras) (2.1.0)\n",
      "Requirement already satisfied: joblib>=0.11 in /home/medad/anaconda3/lib/python3.8/site-packages (from scikit-learn->autokeras) (0.17.0)\n",
      "Requirement already satisfied: scipy>=0.19.1 in /home/medad/anaconda3/lib/python3.8/site-packages (from scikit-learn->autokeras) (1.5.2)\n",
      "Requirement already satisfied: tabulate in /home/medad/anaconda3/lib/python3.8/site-packages (from keras-tuner>=1.0.2->autokeras) (0.8.9)\n",
      "Requirement already satisfied: colorama in /home/medad/anaconda3/lib/python3.8/site-packages (from keras-tuner>=1.0.2->autokeras) (0.4.4)\n",
      "Requirement already satisfied: terminaltables in /home/medad/anaconda3/lib/python3.8/site-packages (from keras-tuner>=1.0.2->autokeras) (3.1.0)\n",
      "Requirement already satisfied: requests in /home/medad/anaconda3/lib/python3.8/site-packages (from keras-tuner>=1.0.2->autokeras) (2.24.0)\n",
      "Requirement already satisfied: future in /home/medad/anaconda3/lib/python3.8/site-packages (from keras-tuner>=1.0.2->autokeras) (0.18.2)\n",
      "Requirement already satisfied: tqdm in /home/medad/anaconda3/lib/python3.8/site-packages (from keras-tuner>=1.0.2->autokeras) (4.50.2)\n",
      "Requirement already satisfied: six in /home/medad/anaconda3/lib/python3.8/site-packages (from packaging->autokeras) (1.15.0)\n",
      "Requirement already satisfied: pyparsing>=2.0.2 in /home/medad/anaconda3/lib/python3.8/site-packages (from packaging->autokeras) (2.4.7)\n",
      "Requirement already satisfied: typing-extensions~=3.7.4 in /home/medad/anaconda3/lib/python3.8/site-packages (from tensorflow>=2.3.0->autokeras) (3.7.4.3)\n",
      "Requirement already satisfied: absl-py~=0.10 in /home/medad/anaconda3/lib/python3.8/site-packages (from tensorflow>=2.3.0->autokeras) (0.12.0)\n",
      "Requirement already satisfied: wheel~=0.35 in /home/medad/anaconda3/lib/python3.8/site-packages (from tensorflow>=2.3.0->autokeras) (0.35.1)\n",
      "Requirement already satisfied: grpcio~=1.34.0 in /home/medad/anaconda3/lib/python3.8/site-packages (from tensorflow>=2.3.0->autokeras) (1.34.1)\n",
      "Requirement already satisfied: gast==0.4.0 in /home/medad/anaconda3/lib/python3.8/site-packages (from tensorflow>=2.3.0->autokeras) (0.4.0)\n",
      "Requirement already satisfied: google-pasta~=0.2 in /home/medad/anaconda3/lib/python3.8/site-packages (from tensorflow>=2.3.0->autokeras) (0.2.0)\n",
      "Requirement already satisfied: keras-preprocessing~=1.1.2 in /home/medad/anaconda3/lib/python3.8/site-packages (from tensorflow>=2.3.0->autokeras) (1.1.2)\n",
      "Requirement already satisfied: h5py~=3.1.0 in /home/medad/anaconda3/lib/python3.8/site-packages (from tensorflow>=2.3.0->autokeras) (3.1.0)\n",
      "Requirement already satisfied: tensorflow-estimator<2.6.0,>=2.5.0rc0 in /home/medad/anaconda3/lib/python3.8/site-packages (from tensorflow>=2.3.0->autokeras) (2.5.0)\n",
      "Requirement already satisfied: keras-nightly~=2.5.0.dev in /home/medad/anaconda3/lib/python3.8/site-packages (from tensorflow>=2.3.0->autokeras) (2.5.0.dev2021032900)\n",
      "Requirement already satisfied: wrapt~=1.12.1 in /home/medad/anaconda3/lib/python3.8/site-packages (from tensorflow>=2.3.0->autokeras) (1.12.1)\n",
      "Requirement already satisfied: tensorboard~=2.5 in /home/medad/anaconda3/lib/python3.8/site-packages (from tensorflow>=2.3.0->autokeras) (2.5.0)\n",
      "Requirement already satisfied: flatbuffers~=1.12.0 in /home/medad/anaconda3/lib/python3.8/site-packages (from tensorflow>=2.3.0->autokeras) (1.12)\n",
      "Requirement already satisfied: opt-einsum~=3.3.0 in /home/medad/anaconda3/lib/python3.8/site-packages (from tensorflow>=2.3.0->autokeras) (3.3.0)\n",
      "Requirement already satisfied: astunparse~=1.6.3 in /home/medad/anaconda3/lib/python3.8/site-packages (from tensorflow>=2.3.0->autokeras) (1.6.3)\n",
      "Requirement already satisfied: termcolor~=1.1.0 in /home/medad/anaconda3/lib/python3.8/site-packages (from tensorflow>=2.3.0->autokeras) (1.1.0)\n",
      "Requirement already satisfied: protobuf>=3.9.2 in /home/medad/anaconda3/lib/python3.8/site-packages (from tensorflow>=2.3.0->autokeras) (3.17.0)\n",
      "Requirement already satisfied: python-dateutil>=2.7.3 in /home/medad/anaconda3/lib/python3.8/site-packages (from pandas->autokeras) (2.8.1)\n",
      "Requirement already satisfied: pytz>=2017.2 in /home/medad/anaconda3/lib/python3.8/site-packages (from pandas->autokeras) (2020.1)\n",
      "Requirement already satisfied: urllib3!=1.25.0,!=1.25.1,<1.26,>=1.21.1 in /home/medad/anaconda3/lib/python3.8/site-packages (from requests->keras-tuner>=1.0.2->autokeras) (1.25.11)\n",
      "Requirement already satisfied: idna<3,>=2.5 in /home/medad/anaconda3/lib/python3.8/site-packages (from requests->keras-tuner>=1.0.2->autokeras) (2.10)\n",
      "Requirement already satisfied: chardet<4,>=3.0.2 in /home/medad/anaconda3/lib/python3.8/site-packages (from requests->keras-tuner>=1.0.2->autokeras) (3.0.4)\n",
      "Requirement already satisfied: certifi>=2017.4.17 in /home/medad/anaconda3/lib/python3.8/site-packages (from requests->keras-tuner>=1.0.2->autokeras) (2020.6.20)\n",
      "Requirement already satisfied: werkzeug>=0.11.15 in /home/medad/anaconda3/lib/python3.8/site-packages (from tensorboard~=2.5->tensorflow>=2.3.0->autokeras) (1.0.1)\n",
      "Requirement already satisfied: markdown>=2.6.8 in /home/medad/anaconda3/lib/python3.8/site-packages (from tensorboard~=2.5->tensorflow>=2.3.0->autokeras) (3.3.4)\n",
      "Requirement already satisfied: setuptools>=41.0.0 in /home/medad/anaconda3/lib/python3.8/site-packages (from tensorboard~=2.5->tensorflow>=2.3.0->autokeras) (50.3.1.post20201107)\n",
      "Requirement already satisfied: google-auth-oauthlib<0.5,>=0.4.1 in /home/medad/anaconda3/lib/python3.8/site-packages (from tensorboard~=2.5->tensorflow>=2.3.0->autokeras) (0.4.4)\n",
      "Requirement already satisfied: google-auth<2,>=1.6.3 in /home/medad/anaconda3/lib/python3.8/site-packages (from tensorboard~=2.5->tensorflow>=2.3.0->autokeras) (1.30.0)\n",
      "Requirement already satisfied: tensorboard-plugin-wit>=1.6.0 in /home/medad/anaconda3/lib/python3.8/site-packages (from tensorboard~=2.5->tensorflow>=2.3.0->autokeras) (1.8.0)\n",
      "Requirement already satisfied: tensorboard-data-server<0.7.0,>=0.6.0 in /home/medad/anaconda3/lib/python3.8/site-packages (from tensorboard~=2.5->tensorflow>=2.3.0->autokeras) (0.6.1)\n",
      "Requirement already satisfied: requests-oauthlib>=0.7.0 in /home/medad/anaconda3/lib/python3.8/site-packages (from google-auth-oauthlib<0.5,>=0.4.1->tensorboard~=2.5->tensorflow>=2.3.0->autokeras) (1.3.0)\n",
      "Requirement already satisfied: rsa<5,>=3.1.4; python_version >= \"3.6\" in /home/medad/anaconda3/lib/python3.8/site-packages (from google-auth<2,>=1.6.3->tensorboard~=2.5->tensorflow>=2.3.0->autokeras) (4.7.2)\n",
      "Requirement already satisfied: cachetools<5.0,>=2.0.0 in /home/medad/anaconda3/lib/python3.8/site-packages (from google-auth<2,>=1.6.3->tensorboard~=2.5->tensorflow>=2.3.0->autokeras) (4.2.2)\n",
      "Requirement already satisfied: pyasn1-modules>=0.2.1 in /home/medad/anaconda3/lib/python3.8/site-packages (from google-auth<2,>=1.6.3->tensorboard~=2.5->tensorflow>=2.3.0->autokeras) (0.2.8)\n",
      "Requirement already satisfied: oauthlib>=3.0.0 in /home/medad/anaconda3/lib/python3.8/site-packages (from requests-oauthlib>=0.7.0->google-auth-oauthlib<0.5,>=0.4.1->tensorboard~=2.5->tensorflow>=2.3.0->autokeras) (3.1.0)\n",
      "Requirement already satisfied: pyasn1>=0.1.3 in /home/medad/anaconda3/lib/python3.8/site-packages (from rsa<5,>=3.1.4; python_version >= \"3.6\"->google-auth<2,>=1.6.3->tensorboard~=2.5->tensorflow>=2.3.0->autokeras) (0.4.8)\n"
     ]
    }
   ],
   "source": [
    "!pip install autokeras\n"
   ]
  },
  {
   "cell_type": "code",
   "execution_count": 1,
   "metadata": {
    "id": "3umGTBwJ2EtP"
   },
   "outputs": [],
   "source": [
    "import tensorflow as tf\n",
    "from tensorflow.keras.datasets import mnist\n",
    "\n",
    "import autokeras as ak\n"
   ]
  },
  {
   "cell_type": "markdown",
   "metadata": {
    "id": "K5HmCvDu2EtQ"
   },
   "source": [
    "To make this tutorial easy to follow, we just treat MNIST dataset as a\n",
    "regression dataset. It means we will treat prediction targets of MNIST dataset,\n",
    "which are integers ranging from 0 to 9 as numerical values, so that they can be\n",
    "directly used as the regression targets.\n",
    "\n",
    "## A Simple Example\n",
    "The first step is to prepare your data. Here we use the MNIST dataset as an\n",
    "example\n"
   ]
  },
  {
   "cell_type": "code",
   "execution_count": 2,
   "metadata": {
    "colab": {
     "base_uri": "https://localhost:8080/"
    },
    "id": "3skrHcdY2EtR",
    "outputId": "95e13758-9ea5-41a3-a154-bb7ba4597769"
   },
   "outputs": [
    {
     "name": "stdout",
     "output_type": "stream",
     "text": [
      "(100, 28, 28)\n",
      "(100,)\n",
      "[5 0 4]\n"
     ]
    }
   ],
   "source": [
    "\n",
    "(x_train, y_train), (x_test, y_test) = mnist.load_data()\n",
    "x_train = x_train[:100]\n",
    "y_train = y_train[:100]\n",
    "print(x_train.shape)  # (60000, 28, 28)\n",
    "print(y_train.shape)  # (60000,)\n",
    "print(y_train[:3])  # array([7, 2, 1], dtype=uint8)\n"
   ]
  },
  {
   "cell_type": "code",
   "execution_count": 4,
   "metadata": {
    "collapsed": true,
    "jupyter": {
     "outputs_hidden": true
    }
   },
   "outputs": [
    {
     "data": {
      "text/plain": [
       "array([[[0, 0, 0, ..., 0, 0, 0],\n",
       "        [0, 0, 0, ..., 0, 0, 0],\n",
       "        [0, 0, 0, ..., 0, 0, 0],\n",
       "        ...,\n",
       "        [0, 0, 0, ..., 0, 0, 0],\n",
       "        [0, 0, 0, ..., 0, 0, 0],\n",
       "        [0, 0, 0, ..., 0, 0, 0]],\n",
       "\n",
       "       [[0, 0, 0, ..., 0, 0, 0],\n",
       "        [0, 0, 0, ..., 0, 0, 0],\n",
       "        [0, 0, 0, ..., 0, 0, 0],\n",
       "        ...,\n",
       "        [0, 0, 0, ..., 0, 0, 0],\n",
       "        [0, 0, 0, ..., 0, 0, 0],\n",
       "        [0, 0, 0, ..., 0, 0, 0]],\n",
       "\n",
       "       [[0, 0, 0, ..., 0, 0, 0],\n",
       "        [0, 0, 0, ..., 0, 0, 0],\n",
       "        [0, 0, 0, ..., 0, 0, 0],\n",
       "        ...,\n",
       "        [0, 0, 0, ..., 0, 0, 0],\n",
       "        [0, 0, 0, ..., 0, 0, 0],\n",
       "        [0, 0, 0, ..., 0, 0, 0]],\n",
       "\n",
       "       ...,\n",
       "\n",
       "       [[0, 0, 0, ..., 0, 0, 0],\n",
       "        [0, 0, 0, ..., 0, 0, 0],\n",
       "        [0, 0, 0, ..., 0, 0, 0],\n",
       "        ...,\n",
       "        [0, 0, 0, ..., 0, 0, 0],\n",
       "        [0, 0, 0, ..., 0, 0, 0],\n",
       "        [0, 0, 0, ..., 0, 0, 0]],\n",
       "\n",
       "       [[0, 0, 0, ..., 0, 0, 0],\n",
       "        [0, 0, 0, ..., 0, 0, 0],\n",
       "        [0, 0, 0, ..., 0, 0, 0],\n",
       "        ...,\n",
       "        [0, 0, 0, ..., 0, 0, 0],\n",
       "        [0, 0, 0, ..., 0, 0, 0],\n",
       "        [0, 0, 0, ..., 0, 0, 0]],\n",
       "\n",
       "       [[0, 0, 0, ..., 0, 0, 0],\n",
       "        [0, 0, 0, ..., 0, 0, 0],\n",
       "        [0, 0, 0, ..., 0, 0, 0],\n",
       "        ...,\n",
       "        [0, 0, 0, ..., 0, 0, 0],\n",
       "        [0, 0, 0, ..., 0, 0, 0],\n",
       "        [0, 0, 0, ..., 0, 0, 0]]], dtype=uint8)"
      ]
     },
     "execution_count": 4,
     "metadata": {},
     "output_type": "execute_result"
    }
   ],
   "source": [
    "x_train"
   ]
  },
  {
   "cell_type": "code",
   "execution_count": 5,
   "metadata": {},
   "outputs": [
    {
     "data": {
      "text/plain": [
       "array([5, 0, 4, 1, 9, 2, 1, 3, 1, 4, 3, 5, 3, 6, 1, 7, 2, 8, 6, 9, 4, 0,\n",
       "       9, 1, 1, 2, 4, 3, 2, 7, 3, 8, 6, 9, 0, 5, 6, 0, 7, 6, 1, 8, 7, 9,\n",
       "       3, 9, 8, 5, 9, 3, 3, 0, 7, 4, 9, 8, 0, 9, 4, 1, 4, 4, 6, 0, 4, 5,\n",
       "       6, 1, 0, 0, 1, 7, 1, 6, 3, 0, 2, 1, 1, 7, 9, 0, 2, 6, 7, 8, 3, 9,\n",
       "       0, 4, 6, 7, 4, 6, 8, 0, 7, 8, 3, 1], dtype=uint8)"
      ]
     },
     "execution_count": 5,
     "metadata": {},
     "output_type": "execute_result"
    }
   ],
   "source": [
    "y_train"
   ]
  },
  {
   "cell_type": "markdown",
   "metadata": {
    "id": "lHedhLvG2EtS"
   },
   "source": [
    "The second step is to run the ImageRegressor.  It is recommended have more\n",
    "trials for more complicated datasets.  This is just a quick demo of MNIST, so\n",
    "we set max_trials to 1.  For the same reason, we set epochs to 2.  You can also\n",
    "leave the epochs unspecified for an adaptive number of epochs.\n"
   ]
  },
  {
   "cell_type": "code",
   "execution_count": 4,
   "metadata": {
    "colab": {
     "base_uri": "https://localhost:8080/"
    },
    "id": "DzV6axHe2EtS",
    "outputId": "f87d88d1-8b35-4422-c805-f04d38b52eba"
   },
   "outputs": [
    {
     "name": "stdout",
     "output_type": "stream",
     "text": [
      "Trial 1 Complete [00h 00m 13s]\n",
      "val_loss: 29.824039459228516\n",
      "\n",
      "Best val_loss So Far: 29.824039459228516\n",
      "Total elapsed time: 00h 00m 13s\n",
      "INFO:tensorflow:Oracle triggered exit\n",
      "Epoch 1/2\n",
      "4/4 [==============================] - 7s 817ms/step - loss: 41.0001 - mean_squared_error: 41.0001\n",
      "Epoch 2/2\n",
      "4/4 [==============================] - 4s 812ms/step - loss: 63.1565 - mean_squared_error: 63.1565\n"
     ]
    },
    {
     "name": "stderr",
     "output_type": "stream",
     "text": [
      "/home/medad/anaconda3/lib/python3.8/site-packages/tensorflow/python/keras/utils/generic_utils.py:494: CustomMaskWarning: Custom mask layers require a config and must override get_config. When loading, the custom mask layer must be passed to the custom_objects argument.\n",
      "  warnings.warn('Custom mask layers require a config and must override '\n"
     ]
    },
    {
     "name": "stdout",
     "output_type": "stream",
     "text": [
      "INFO:tensorflow:Assets written to: ./image_regressor/best_model/assets\n",
      "313/313 [==============================] - 12s 40ms/step\n",
      "[[2.774428 ]\n",
      " [3.9875875]\n",
      " [2.7543194]\n",
      " ...\n",
      " [4.6833467]\n",
      " [4.4668865]\n",
      " [4.3178835]]\n",
      "313/313 [==============================] - 13s 38ms/step - loss: 7.9981 - mean_squared_error: 7.9981\n",
      "[7.99806547164917, 7.99806547164917]\n"
     ]
    }
   ],
   "source": [
    "# Initialize the image regressor.\n",
    "reg = ak.ImageRegressor(overwrite=True, max_trials=1)\n",
    "# Feed the image regressor with training data.\n",
    "reg.fit(x_train, y_train, epochs=2)\n",
    "\n",
    "\n",
    "# Predict with the best model.\n",
    "predicted_y = reg.predict(x_test)\n",
    "print(predicted_y)\n",
    "\n",
    "\n",
    "# Evaluate the best model with testing data.\n",
    "print(reg.evaluate(x_test, y_test))\n"
   ]
  },
  {
   "cell_type": "markdown",
   "metadata": {
    "id": "g4d9sXi42EtT"
   },
   "source": [
    "## Validation Data\n",
    "By default, AutoKeras use the last 20% of training data as validation data. As\n",
    "shown in the example below, you can use validation_split to specify the\n",
    "percentage.\n"
   ]
  },
  {
   "cell_type": "code",
   "execution_count": 5,
   "metadata": {
    "id": "66G8Q8A_2EtT"
   },
   "outputs": [],
   "source": [
    "reg.fit(\n",
    "    x_train,\n",
    "    y_train,\n",
    "    # Split the training data and use the last 15% as validation data.\n",
    "    validation_split=0.15,\n",
    "    epochs=2,\n",
    ")\n"
   ]
  },
  {
   "cell_type": "markdown",
   "metadata": {
    "id": "M9ZmeOi-2EtU"
   },
   "source": [
    "You can also use your own validation set instead of splitting it from the\n",
    "training data with validation_data.\n"
   ]
  },
  {
   "cell_type": "code",
   "execution_count": null,
   "metadata": {
    "id": "jMANLv3x2EtU"
   },
   "outputs": [],
   "source": [
    "split = 50000\n",
    "x_val = x_train[split:]\n",
    "y_val = y_train[split:]\n",
    "x_train = x_train[:split]\n",
    "y_train = y_train[:split]\n",
    "reg.fit(\n",
    "    x_train,\n",
    "    y_train,\n",
    "    # Use your own validation set.\n",
    "    validation_data=(x_val, y_val),\n",
    "    epochs=2,\n",
    ")\n"
   ]
  },
  {
   "cell_type": "markdown",
   "metadata": {
    "id": "1zB3M2nW2EtV"
   },
   "source": [
    "## Customized Search Space\n",
    "For advanced users, you may customize your search space by using AutoModel\n",
    "instead of ImageRegressor. You can configure the ImageBlock for some high-level\n",
    "configurations, e.g., block_type for the type of neural network to search,\n",
    "normalize for whether to do data normalization, augment for whether to do data\n",
    "augmentation. You can also do not specify these arguments, which would leave\n",
    "the different choices to be tuned automatically. See the following example for\n",
    "detail.\n"
   ]
  },
  {
   "cell_type": "code",
   "execution_count": null,
   "metadata": {
    "colab": {
     "base_uri": "https://localhost:8080/"
    },
    "id": "1qN3BLoP2EtV",
    "outputId": "ffd25b3e-64e5-4929-8c21-e9f673783e3b"
   },
   "outputs": [
    {
     "name": "stdout",
     "output_type": "stream",
     "text": [
      "Trial 1 Complete [00h 00m 44s]\n",
      "val_loss: 27.459535598754883\n",
      "\n",
      "Best val_loss So Far: 27.459535598754883\n",
      "Total elapsed time: 00h 00m 44s\n",
      "INFO:tensorflow:Oracle triggered exit\n",
      "Epoch 1/2\n",
      "4/4 [==============================] - 24s 3s/step - loss: 38.7061 - mean_squared_error: 38.7061\n",
      "Epoch 2/2\n",
      "4/4 [==============================] - 12s 3s/step - loss: 93.4737 - mean_squared_error: 93.4737\n",
      "INFO:tensorflow:Assets written to: ./auto_model/best_model/assets\n"
     ]
    }
   ],
   "source": [
    "input_node = ak.ImageInput()\n",
    "output_node = ak.ImageBlock(\n",
    "    # Only search ResNet architectures.\n",
    "    block_type=\"resnet\",\n",
    "    # Normalize the dataset.\n",
    "    normalize=False,\n",
    "    # Do not do data augmentation.\n",
    "    augment=False,\n",
    ")(input_node)\n",
    "output_node = ak.RegressionHead()(output_node)\n",
    "reg = ak.AutoModel(\n",
    "    inputs=input_node, outputs=output_node, overwrite=True, max_trials=1\n",
    ")\n",
    "reg.fit(x_train, y_train, epochs=2)\n"
   ]
  },
  {
   "cell_type": "markdown",
   "metadata": {
    "id": "XNluIqnJ2EtW"
   },
   "source": [
    "The usage of AutoModel is similar to the functional API of Keras. Basically,\n",
    "you are building a graph, whose edges are blocks and the nodes are intermediate\n",
    "outputs of blocks. To add an edge from input_node to output_node with\n",
    "output_node = ak.[some_block]([block_args])(input_node).\n",
    "\n",
    "You can even also use more fine grained blocks to customize the search space\n",
    "even further. See the following example.\n"
   ]
  },
  {
   "cell_type": "code",
   "execution_count": null,
   "metadata": {
    "colab": {
     "base_uri": "https://localhost:8080/"
    },
    "id": "Cavefvd62EtW",
    "outputId": "627660f2-3d27-4469-fce0-6aaa81753588"
   },
   "outputs": [
    {
     "name": "stdout",
     "output_type": "stream",
     "text": [
      "Trial 1 Complete [00h 00m 26s]\n",
      "val_loss: 27.21742820739746\n",
      "\n",
      "Best val_loss So Far: 27.21742820739746\n",
      "Total elapsed time: 00h 00m 26s\n",
      "INFO:tensorflow:Oracle triggered exit\n",
      "Epoch 1/2\n",
      "4/4 [==============================] - 13s 2s/step - loss: 23.7183 - mean_squared_error: 23.7183\n",
      "Epoch 2/2\n",
      "4/4 [==============================] - 7s 2s/step - loss: 11.1815 - mean_squared_error: 11.1815\n",
      "INFO:tensorflow:Assets written to: ./auto_model/best_model/assets\n"
     ]
    }
   ],
   "source": [
    "input_node = ak.ImageInput()\n",
    "output_node = ak.Normalization()(input_node)\n",
    "output_node = ak.ImageAugmentation(horizontal_flip=False)(output_node)\n",
    "output_node = ak.ResNetBlock(version=\"v2\")(output_node)\n",
    "output_node = ak.RegressionHead()(output_node)\n",
    "reg = ak.AutoModel(\n",
    "    inputs=input_node, outputs=output_node, overwrite=True, max_trials=1\n",
    ")\n",
    "reg.fit(x_train, y_train, epochs=2)\n"
   ]
  },
  {
   "cell_type": "markdown",
   "metadata": {
    "id": "scT-vs0R2EtX"
   },
   "source": [
    "## Data Format\n",
    "The AutoKeras ImageRegressor is quite flexible for the data format.\n",
    "\n",
    "For the image, it accepts data formats both with and without the channel\n",
    "dimension. The images in the MNIST dataset do not have the channel dimension.\n",
    "Each image is a matrix with shape (28, 28). AutoKeras also accepts images of\n",
    "three dimensions with the channel dimension at last, e.g., (32, 32, 3), (28,\n",
    "28, 1).\n",
    "\n",
    "For the regression targets, it should be a vector of numerical values.\n",
    "AutoKeras accepts numpy.ndarray.\n",
    "\n",
    "We also support using tf.data.Dataset format for the training data. In this\n",
    "case, the images would have to be 3-dimentional.\n"
   ]
  },
  {
   "cell_type": "code",
   "execution_count": null,
   "metadata": {
    "colab": {
     "base_uri": "https://localhost:8080/"
    },
    "id": "ERxd43ZV2EtX",
    "outputId": "8058a59a-94e8-44e5-9628-666bea31c32d"
   },
   "outputs": [
    {
     "name": "stdout",
     "output_type": "stream",
     "text": [
      "(60000, 28, 28, 1)\n",
      "(60000, 1)\n",
      "\n",
      "Search: Running Trial #1\n",
      "\n",
      "Hyperparameter    |Value             |Best Value So Far \n",
      "image_block_1/n...|False             |?                 \n",
      "image_block_1/a...|False             |?                 \n",
      "image_block_1/b...|resnet            |?                 \n",
      "image_block_1/r...|False             |?                 \n",
      "image_block_1/r...|resnet50          |?                 \n",
      "image_block_1/r...|False             |?                 \n",
      "regression_head...|0                 |?                 \n",
      "optimizer         |adam              |?                 \n",
      "learning_rate     |0.001             |?                 \n",
      "\n",
      "Epoch 1/2\n",
      " 411/1500 [=======>......................] - ETA: 20:56 - loss: 3.7546 - mean_squared_error: 3.7546"
     ]
    }
   ],
   "source": [
    "(x_train, y_train), (x_test, y_test) = mnist.load_data()\n",
    "\n",
    "# Reshape the images to have the channel dimension.\n",
    "x_train = x_train.reshape(x_train.shape + (1,))\n",
    "x_test = x_test.reshape(x_test.shape + (1,))\n",
    "y_train = y_train.reshape(y_train.shape + (1,))\n",
    "y_test = y_test.reshape(y_test.shape + (1,))\n",
    "\n",
    "print(x_train.shape)  # (60000, 28, 28, 1)\n",
    "print(y_train.shape)  # (60000, 10)\n",
    "\n",
    "train_set = tf.data.Dataset.from_tensor_slices(((x_train,), (y_train,)))\n",
    "test_set = tf.data.Dataset.from_tensor_slices(((x_test,), (y_test,)))\n",
    "\n",
    "reg = ak.ImageRegressor(overwrite=True, max_trials=1)\n",
    "# Feed the tensorflow Dataset to the regressor.\n",
    "reg.fit(train_set, epochs=2)\n",
    "# Predict with the best model.\n",
    "predicted_y = reg.predict(test_set)\n",
    "# Evaluate the best model with testing data.\n",
    "print(reg.evaluate(test_set))\n"
   ]
  },
  {
   "cell_type": "markdown",
   "metadata": {
    "id": "weE7z0Yo2EtY"
   },
   "source": [
    "## Reference\n",
    "[ImageRegressor](/image_regressor),\n",
    "[AutoModel](/auto_model/#automodel-class),\n",
    "[ImageBlock](/block/#imageblock-class),\n",
    "[Normalization](/block/#normalization-class),\n",
    "[ImageAugmentation](/block/#image-augmentation-class),\n",
    "[ResNetBlock](/block/#resnetblock-class),\n",
    "[ImageInput](/node/#imageinput-class),\n",
    "[RegressionHead](/block/#regressionhead-class).\n"
   ]
  },
  {
   "cell_type": "code",
   "execution_count": null,
   "metadata": {
    "id": "p25Wnrxt2SvQ"
   },
   "outputs": [],
   "source": []
  }
 ],
 "metadata": {
  "colab": {
   "collapsed_sections": [],
   "name": "Copy of image_regression",
   "provenance": [],
   "toc_visible": true
  },
  "kernelspec": {
   "display_name": "Python 3",
   "language": "python",
   "name": "python3"
  },
  "language_info": {
   "codemirror_mode": {
    "name": "ipython",
    "version": 3
   },
   "file_extension": ".py",
   "mimetype": "text/x-python",
   "name": "python",
   "nbconvert_exporter": "python",
   "pygments_lexer": "ipython3",
   "version": "3.8.5"
  }
 },
 "nbformat": 4,
 "nbformat_minor": 4
}
