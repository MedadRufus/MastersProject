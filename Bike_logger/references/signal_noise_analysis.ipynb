{
 "cells": [
  {
   "cell_type": "code",
   "execution_count": null,
   "metadata": {},
   "outputs": [],
   "source": [
    "#!/usr/bin/env python\n",
    "# coding: utf-8\n",
    "#######################################################################\n",
    "# How to setup AndroSensor:\n",
    "# Install AndroSensor\n",
    "# Ensure when installing, allow app to run in background.\n",
    "# Open settings and change recording interval to fast.\n",
    "#\n",
    "#\n",
    "#\n",
    "#######################################################################\n",
    "import glob\n",
    "import os\n",
    "import numpy as np\n",
    "import pandas as pd\n",
    "import plotly.express as px\n",
    "import plotly.io as pio\n",
    "pio.renderers.default = 'browser'\n",
    "import numpy as np\n",
    "import scipy as sp\n",
    "import scipy.signal as sg"
   ]
  },
  {
   "cell_type": "code",
   "execution_count": null,
   "metadata": {},
   "outputs": [],
   "source": [
    "df = pd.read_csv(\"SDS00002_noisy_pandas.csv\")"
   ]
  },
  {
   "cell_type": "code",
   "execution_count": null,
   "metadata": {},
   "outputs": [],
   "source": [
    "df.head(100)"
   ]
  },
  {
   "cell_type": "code",
   "execution_count": null,
   "metadata": {},
   "outputs": [],
   "source": [
    "fig = px.line(df, x=\"econd\", y=\"Volt\", title='Signal vs time')\n",
    "fig.show()"
   ]
  },
  {
   "cell_type": "code",
   "execution_count": null,
   "metadata": {},
   "outputs": [],
   "source": [
    "#%matplotlib qt  # wx, gtk, osx, tk, empty uses default\n",
    "%matplotlib qt\n",
    "import matplotlib\n",
    "import matplotlib.pyplot as plt\n",
    "import numpy as np\n",
    "\n",
    "# Data for plotting\n",
    "\n",
    "fig, ax = plt.subplots()\n",
    "ax.plot(df[\"econd\"], df[\"Volt\"])\n",
    "\n",
    "\n",
    "\n",
    "plt.show()"
   ]
  },
  {
   "cell_type": "code",
   "execution_count": null,
   "metadata": {},
   "outputs": [],
   "source": [
    "# importing modules\n",
    "import numpy\n",
    "from matplotlib import pyplot as plt\n",
    "   \n",
    "# assigning time values of the signal\n",
    "# initial time period, final time period and phase angle  \n",
    "signalTime = numpy.arange(1, 100, 0.5);\n",
    "  \n",
    "# getting the amplitude of the signal\n",
    "signalAmplitude = numpy.sin(signalTime)\n",
    "  \n",
    "# plotting the signal \n",
    "# plt.plot(signalTime, signalAmplitude, color ='green')\n",
    "  \n",
    "# plt.xlabel('Time')\n",
    "# plt.ylabel('Amplitude')\n",
    "# plt.title(\"Signal\")\n",
    "  \n",
    "  \n",
    "# plotting the magnitude spectrum of the signal \n",
    "plt.magnitude_spectrum(df[\"Volt\"],Fs=20000000, color ='green')\n",
    "  \n",
    "plt.title(\"Magnitude Spectrum of the Signal\")\n",
    "plt.show()"
   ]
  },
  {
   "cell_type": "code",
   "execution_count": null,
   "metadata": {},
   "outputs": [],
   "source": [
    "freqs, psd = signal.welch(df[\"Volt\"],fs=20000000)\n",
    "\n",
    "plt.figure(figsize=(5, 4))\n",
    "plt.plot(freqs, psd)\n",
    "plt.title('PSD: power spectral density')\n",
    "plt.xlabel('Frequency')\n",
    "plt.ylabel('Power')\n",
    "plt.tight_layout()\n",
    "plt.show()\n"
   ]
  }
 ],
 "metadata": {
  "kernelspec": {
   "display_name": "Python 3",
   "language": "python",
   "name": "python3"
  },
  "language_info": {
   "codemirror_mode": {
    "name": "ipython",
    "version": 3
   },
   "file_extension": ".py",
   "mimetype": "text/x-python",
   "name": "python",
   "nbconvert_exporter": "python",
   "pygments_lexer": "ipython3",
   "version": "3.7.3"
  }
 },
 "nbformat": 4,
 "nbformat_minor": 2
}
