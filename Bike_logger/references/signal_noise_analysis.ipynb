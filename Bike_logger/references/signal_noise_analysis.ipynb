{
 "cells": [
  {
   "cell_type": "code",
   "execution_count": null,
   "metadata": {},
   "outputs": [],
   "source": [
    "#!/usr/bin/env python\n",
    "# coding: utf-8\n",
    "#######################################################################\n",
    "# How to setup AndroSensor:\n",
    "# Install AndroSensor\n",
    "# Ensure when installing, allow app to run in background.\n",
    "# Open settings and change recording interval to fast.\n",
    "#\n",
    "#\n",
    "#\n",
    "#######################################################################\n",
    "import glob\n",
    "import os\n",
    "import numpy as np\n",
    "import pandas as pd\n",
    "import plotly.express as px\n",
    "import plotly.io as pio\n",
    "pio.renderers.default = 'browser'\n",
    "import numpy as np\n",
    "import scipy as sp\n",
    "import scipy.signal as sg"
   ]
  },
  {
   "cell_type": "code",
   "execution_count": null,
   "metadata": {},
   "outputs": [],
   "source": [
    "df = pd.read_csv(\"SDS00002_noisy_pandas.csv\")"
   ]
  },
  {
   "cell_type": "code",
   "execution_count": null,
   "metadata": {},
   "outputs": [],
   "source": [
    "df.head(100)"
   ]
  },
  {
   "cell_type": "code",
   "execution_count": null,
   "metadata": {},
   "outputs": [],
   "source": [
    "df = df.iloc[::20000, :] # Keep one in 2000 samples"
   ]
  },
  {
   "cell_type": "code",
   "execution_count": null,
   "metadata": {},
   "outputs": [],
   "source": [
    "fig = px.line(df, x=\"Second\", y=\"Volt\", title='Signal vs time')\n",
    "fig.show()"
   ]
  },
  {
   "cell_type": "code",
   "execution_count": null,
   "metadata": {},
   "outputs": [],
   "source": [
    "#%matplotlib qt  # wx, gtk, osx, tk, empty uses default\n",
    "%matplotlib qt\n",
    "import matplotlib\n",
    "import matplotlib.pyplot as plt\n",
    "import numpy as np\n",
    "\n",
    "# Data for plotting\n",
    "\n",
    "fig, ax = plt.subplots()\n",
    "ax.plot(df[\"Second\"], df[\"Volt\"])\n",
    "\n",
    "\n",
    "\n",
    "plt.show()"
   ]
  },
  {
   "cell_type": "code",
   "execution_count": null,
   "metadata": {},
   "outputs": [],
   "source": [
    "# importing modules\n",
    "import numpy\n",
    "from matplotlib import pyplot as plt\n",
    "   \n",
    "# assigning time values of the signal\n",
    "# initial time period, final time period and phase angle  \n",
    "signalTime = numpy.arange(1, 100, 0.5);\n",
    "  \n",
    "# getting the amplitude of the signal\n",
    "signalAmplitude = numpy.sin(signalTime)\n",
    "  \n",
    "# plotting the signal \n",
    "# plt.plot(signalTime, signalAmplitude, color ='green')\n",
    "  \n",
    "# plt.xlabel('Time')\n",
    "# plt.ylabel('Amplitude')\n",
    "# plt.title(\"Signal\")\n",
    "  \n",
    "  \n",
    "# plotting the magnitude spectrum of the signal \n",
    "plt.magnitude_spectrum(df[\"Volt\"],Fs=20000000, color ='green')\n",
    "  \n",
    "plt.title(\"Magnitude Spectrum of the Signal\")\n",
    "plt.show()"
   ]
  },
  {
   "cell_type": "code",
   "execution_count": null,
   "metadata": {},
   "outputs": [],
   "source": [
    "freqs, psd = signal.welch(df[\"Volt\"],fs=20000000)\n",
    "\n",
    "plt.figure(figsize=(5, 4))\n",
    "plt.plot(freqs, psd)\n",
    "plt.title('PSD: power spectral density Welch' )\n",
    "plt.xlabel('Frequency')\n",
    "plt.ylabel('Power')\n",
    "plt.tight_layout()\n",
    "plt.show()\n"
   ]
  },
  {
   "cell_type": "code",
   "execution_count": null,
   "metadata": {},
   "outputs": [],
   "source": [
    "# use psd\n",
    "plt.psd(df[\"Volt\"], Fs=20000000)\n",
    "\n",
    "plt.show()"
   ]
  },
  {
   "cell_type": "markdown",
   "metadata": {},
   "source": [
    "### Use butterworth filter"
   ]
  },
  {
   "cell_type": "code",
   "execution_count": null,
   "metadata": {},
   "outputs": [],
   "source": [
    "import numpy as np\n",
    "from scipy.signal import butter, lfilter, freqz\n",
    "import matplotlib.pyplot as plt\n",
    "%matplotlib qt\n",
    "\n",
    "\n",
    "def butter_lowpass(cutoff, fs, order=5):\n",
    "    nyq = 0.5 * fs\n",
    "    normal_cutoff = cutoff / nyq\n",
    "    b, a = butter(order, normal_cutoff, btype='low', analog=False)\n",
    "    return b, a\n",
    "\n",
    "def butter_lowpass_filter(data, cutoff, fs, order=5):\n",
    "    b, a = butter_lowpass(cutoff, fs, order=order)\n",
    "    y = lfilter(b, a, data)\n",
    "    return y\n",
    "\n",
    "\n",
    "# Filter requirements.\n",
    "order = 4\n",
    "fs = 10000      # sample rate, Hz\n",
    "cutoff = 1000  # desired cutoff frequency of the filter, Hz\n",
    "\n",
    "# Get the filter coefficients so we can check its frequency response.\n",
    "b, a = butter_lowpass(cutoff, fs, order)\n",
    "\n",
    "# Plot the frequency response.\n",
    "w, h = freqz(b, a, worN=8000)\n",
    "plt.subplot(2, 1, 1)\n",
    "plt.plot(0.5*fs*w/np.pi, np.abs(h), 'b')\n",
    "plt.plot(cutoff, 0.5*np.sqrt(2), 'ko')\n",
    "plt.axvline(cutoff, color='k')\n",
    "plt.xlim(0, 0.5*fs)\n",
    "plt.title(\"Lowpass Filter Frequency Response\")\n",
    "plt.xlabel('Frequency [Hz]')\n",
    "plt.grid()\n",
    "\n",
    "\n",
    "# Demonstrate the use of the filter.\n",
    "# First make some data to be filtered.\n",
    "#T = 5.0         # seconds\n",
    "n = len(df[\"Volt\"])#int(T * fs) # total number of samples\n",
    "t =df[\"Second\"]# np.linspace(0, T, n, endpoint=False)\n",
    "# \"Noisy\" data.  We want to recover the 1.2 Hz signal from this.\n",
    "data = df[\"Volt\"] #= np.sin(1.2*2*np.pi*t) + 1.5*np.cos(9*2*np.pi*t) + 0.5*np.sin(12.0*2*np.pi*t)\n",
    "\n",
    "# Filter the data, and plot both the original and filtered signals.\n",
    "y = butter_lowpass_filter(data, cutoff, fs, order)\n",
    "\n",
    "plt.subplot(2, 1, 2)\n",
    "plt.plot(t, data, 'b-', label='data')\n",
    "plt.plot(t, y, 'g-', linewidth=2, label='filtered data')\n",
    "plt.xlabel('Time [sec]')\n",
    "plt.grid()\n",
    "plt.legend()\n",
    "\n",
    "plt.subplots_adjust(hspace=0.35)\n",
    "plt.show()"
   ]
  },
  {
   "cell_type": "markdown",
   "metadata": {},
   "source": [
    "### Use simple threshold filter"
   ]
  },
  {
   "cell_type": "code",
   "execution_count": null,
   "metadata": {},
   "outputs": [],
   "source": [
    "import numpy as np\n",
    "from scipy.signal import butter, lfilter, freqz\n",
    "import matplotlib.pyplot as plt\n",
    "%matplotlib qt\n",
    "\n",
    "dead_high = 3.5\n",
    "dead_low = 0.4\n",
    "\n",
    "def threshold_lowpass_filter(df, dead_low, dead_high):\n",
    "    \n",
    "    df = df[~df['Volt'].between(dead_low, dead_high)]\n",
    "    return df\n",
    "\n",
    "t = df[\"Second\"]\n",
    "data = df[\"Volt\"]\n",
    "\n",
    "# Filter the data, and plot both the original and filtered signals.\n",
    "data_filtered = threshold_lowpass_filter(df, dead_low, dead_high)\n",
    "\n",
    "plt.subplot(2, 1, 2)\n",
    "plt.plot(t, data, 'b-', label='data')\n",
    "plt.plot(data_filtered[\"Second\"], data_filtered[\"Volt\"], 'g-', linewidth=2, label='filtered data')\n",
    "plt.xlabel('Time [sec]')\n",
    "plt.grid()\n",
    "plt.legend()\n",
    "\n",
    "plt.show()"
   ]
  }
 ],
 "metadata": {
  "kernelspec": {
   "display_name": "Python 3",
   "language": "python",
   "name": "python3"
  },
  "language_info": {
   "codemirror_mode": {
    "name": "ipython",
    "version": 3
   },
   "file_extension": ".py",
   "mimetype": "text/x-python",
   "name": "python",
   "nbconvert_exporter": "python",
   "pygments_lexer": "ipython3",
   "version": "3.7.3"
  }
 },
 "nbformat": 4,
 "nbformat_minor": 2
}
